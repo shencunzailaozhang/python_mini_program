{
 "cells": [
  {
   "cell_type": "code",
   "execution_count": 58,
   "metadata": {},
   "outputs": [
    {
     "name": "stdout",
     "output_type": "stream",
     "text": [
      "C:\\Users\\john\\Desktop\\python_mini_programs\\move_files\n",
      "['.ipynb_checkpoints', 'move_files_to_assigned_directory.ipynb']\n"
     ]
    }
   ],
   "source": [
    "#!/usr/bin/python\n",
    "# -*- coding: UTF-8 -*-\n",
    "import os\n",
    "path='C:\\\\Users\\\\john\\\\Desktop\\\\python_mini_programs\\\\move_files'#注意路径的格式\n",
    "print(path)\n",
    "files=os.listdir(path)\n",
    "print(files)"
   ]
  },
  {
   "cell_type": "code",
   "execution_count": 59,
   "metadata": {},
   "outputs": [
    {
     "data": {
      "text/plain": [
       "'F:\\\\1.txt'"
      ]
     },
     "execution_count": 59,
     "metadata": {},
     "output_type": "execute_result"
    }
   ],
   "source": [
    "import shutil\n",
    "file1=\"E:\\\\1.txt\"\n",
    "file2=\"F:\\\\1.txt\"\n",
    "shutil.copy(file1,file2)"
   ]
  },
  {
   "cell_type": "code",
   "execution_count": 60,
   "metadata": {},
   "outputs": [
    {
     "name": "stdout",
     "output_type": "stream",
     "text": [
      "1.txt\n"
     ]
    }
   ],
   "source": [
    "import os,shutil\n",
    "file=\"E:\\\\1.txt\"\n",
    "dir=\"F:\"\n",
    "path=os.path.basename(file)#返回1.txt\n",
    "print(path)\n",
    "def move_file_to_dir(filename,directory):#如果directory中存在与filename同名的文件，那么覆盖它\n",
    "    shutil.copy(filename,directory+\"\\\\\"+os.path.basename(file))#copy（flie1,file2）,用file1覆盖file2，无论是名字还是内容，都进行覆盖\n",
    "move_file_to_dir(file,dir)"
   ]
  },
  {
   "cell_type": "code",
   "execution_count": 61,
   "metadata": {},
   "outputs": [
    {
     "data": {
      "text/plain": [
       "'F:\\\\2.txt'"
      ]
     },
     "execution_count": 61,
     "metadata": {},
     "output_type": "execute_result"
    }
   ],
   "source": [
    "import os,shutil\n",
    "file=\"E:\\\\1.txt\"\n",
    "shutil.copy(file,\"F:\\\\2.txt\")"
   ]
  },
  {
   "cell_type": "code",
   "execution_count": null,
   "metadata": {},
   "outputs": [],
   "source": []
  }
 ],
 "metadata": {
  "kernelspec": {
   "display_name": "Python 3",
   "language": "python",
   "name": "python3"
  },
  "language_info": {
   "codemirror_mode": {
    "name": "ipython",
    "version": 3
   },
   "file_extension": ".py",
   "mimetype": "text/x-python",
   "name": "python",
   "nbconvert_exporter": "python",
   "pygments_lexer": "ipython3",
   "version": "3.6.5"
  }
 },
 "nbformat": 4,
 "nbformat_minor": 2
}
